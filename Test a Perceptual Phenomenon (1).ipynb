{
 "cells": [
  {
   "cell_type": "markdown",
   "metadata": {},
   "source": [
    "### Analyzing the Stroop Effect\n",
    "Perform the analysis in the space below. Remember to follow [the instructions](https://docs.google.com/document/d/1-OkpZLjG_kX9J6LIQ5IltsqMzVWjh36QpnP2RYpVdPU/pub?embedded=True) and review the [project rubric](https://review.udacity.com/#!/rubrics/71/view) before submitting. Once you've completed the analysis and write up, download this file as a PDF or HTML file and submit in the next section.\n",
    "\n",
    "\n",
    "(1) What is the independent variable? What is the dependent variable?"
   ]
  },
  {
   "cell_type": "markdown",
   "metadata": {},
   "source": [
    "Independent variable is word status, that is if word is Congruent or Incongruent.\n",
    "Dependent variable is response time."
   ]
  },
  {
   "cell_type": "markdown",
   "metadata": {},
   "source": [
    "(2) What is an appropriate set of hypotheses for this task? What kind of statistical test do you expect to perform? Justify your choices."
   ]
  },
  {
   "cell_type": "markdown",
   "metadata": {},
   "source": [
    "Ho - Null Hypothesis is that there is no significant difference in the average response time of population in reading the congruent words as compared to viewing the incongruent words.\n",
    "i.e. μd=0\n",
    "\n",
    "Ha - Alternative Hypothesis is that the population average response times for congruent words as compared to viewing the incongruent words is significantly different.\n",
    "i.e. μd>0 or μd<0\n",
    "\n",
    "where\n",
    "μd- Difference between the two tests\n",
    "\n",
    "For this Statistical analysis I plan to perform two tailed dependent t-Tests. The following are the reasons for selecting it:\n",
    "1.Population standard deviation is unknown\n",
    "2.Each participant performs both the tests, so gain some experience reading the words. This would impact their performance in the second test. So I believe both the tests are related to each other, that is they are dependent.\n",
    "3.The tests are performed on same subjects."
   ]
  },
  {
   "cell_type": "markdown",
   "metadata": {},
   "source": [
    "(3) Report some descriptive statistics regarding this dataset. Include at least one measure of central tendency and at least one measure of variability. The name of the data file is 'stroopdata.csv'."
   ]
  },
  {
   "cell_type": "code",
   "execution_count": 40,
   "metadata": {},
   "outputs": [
    {
     "data": {
      "text/html": [
       "<div>\n",
       "<style>\n",
       "    .dataframe thead tr:only-child th {\n",
       "        text-align: right;\n",
       "    }\n",
       "\n",
       "    .dataframe thead th {\n",
       "        text-align: left;\n",
       "    }\n",
       "\n",
       "    .dataframe tbody tr th {\n",
       "        vertical-align: top;\n",
       "    }\n",
       "</style>\n",
       "<table border=\"1\" class=\"dataframe\">\n",
       "  <thead>\n",
       "    <tr style=\"text-align: right;\">\n",
       "      <th></th>\n",
       "      <th>Congruent</th>\n",
       "      <th>Incongruent</th>\n",
       "    </tr>\n",
       "  </thead>\n",
       "  <tbody>\n",
       "    <tr>\n",
       "      <th>count</th>\n",
       "      <td>24.000000</td>\n",
       "      <td>24.000000</td>\n",
       "    </tr>\n",
       "    <tr>\n",
       "      <th>mean</th>\n",
       "      <td>14.051125</td>\n",
       "      <td>22.015917</td>\n",
       "    </tr>\n",
       "    <tr>\n",
       "      <th>std</th>\n",
       "      <td>3.559358</td>\n",
       "      <td>4.797057</td>\n",
       "    </tr>\n",
       "    <tr>\n",
       "      <th>min</th>\n",
       "      <td>8.630000</td>\n",
       "      <td>15.687000</td>\n",
       "    </tr>\n",
       "    <tr>\n",
       "      <th>25%</th>\n",
       "      <td>11.895250</td>\n",
       "      <td>18.716750</td>\n",
       "    </tr>\n",
       "    <tr>\n",
       "      <th>50%</th>\n",
       "      <td>14.356500</td>\n",
       "      <td>21.017500</td>\n",
       "    </tr>\n",
       "    <tr>\n",
       "      <th>75%</th>\n",
       "      <td>16.200750</td>\n",
       "      <td>24.051500</td>\n",
       "    </tr>\n",
       "    <tr>\n",
       "      <th>max</th>\n",
       "      <td>22.328000</td>\n",
       "      <td>35.255000</td>\n",
       "    </tr>\n",
       "  </tbody>\n",
       "</table>\n",
       "</div>"
      ],
      "text/plain": [
       "       Congruent  Incongruent\n",
       "count  24.000000    24.000000\n",
       "mean   14.051125    22.015917\n",
       "std     3.559358     4.797057\n",
       "min     8.630000    15.687000\n",
       "25%    11.895250    18.716750\n",
       "50%    14.356500    21.017500\n",
       "75%    16.200750    24.051500\n",
       "max    22.328000    35.255000"
      ]
     },
     "execution_count": 40,
     "metadata": {},
     "output_type": "execute_result"
    }
   ],
   "source": [
    "# Descriptive statistic analysis \n",
    "import os\n",
    "import pandas as pd\n",
    "import matplotlib.pyplot as plt\n",
    "\n",
    "path = os.getcwd()\n",
    "#Read data file\n",
    "data = pd.read_csv(path + '/stroopdata.csv')\n",
    "\n",
    "data.describe(include = 'all')"
   ]
  },
  {
   "cell_type": "markdown",
   "metadata": {},
   "source": [
    "Mean represents the central tendency and Standard deviation is one measure of variability.\n",
    "Mean:\n",
    "Congruent\t= 14.051125\n",
    "Incongruent =22.015917\n",
    "Standard Deviation\n",
    "Congruent\t= 3.559358\n",
    "Incongruent = 4.797057"
   ]
  },
  {
   "cell_type": "markdown",
   "metadata": {},
   "source": [
    "(4) Provide one or two visualizations that show the distribution of the sample data. Write one or two sentences noting what you observe about the plot or plots."
   ]
  },
  {
   "cell_type": "code",
   "execution_count": 41,
   "metadata": {
    "scrolled": true
   },
   "outputs": [
    {
     "data": {
      "text/plain": [
       "<matplotlib.axes._subplots.AxesSubplot at 0x7fd036eaf940>"
      ]
     },
     "execution_count": 41,
     "metadata": {},
     "output_type": "execute_result"
    },
    {
     "data": {
      "image/png": "[encoded data removed]",
      "text/plain": [
       "<matplotlib.figure.Figure at 0x7fd0370806d8>"
      ]
     },
     "metadata": {},
     "output_type": "display_data"
    }
   ],
   "source": [
    "#Boxplot\n",
    "data.boxplot()"
   ]
  },
  {
   "cell_type": "code",
   "execution_count": 42,
   "metadata": {},
   "outputs": [
    {
     "data": {
      "text/plain": [
       "<matplotlib.legend.Legend at 0x7fd036d75550>"
      ]
     },
     "execution_count": 42,
     "metadata": {},
     "output_type": "execute_result"
    },
    {
     "data": {
      "image/png": "[encoded data removed]",
      "text/plain": [
       "<matplotlib.figure.Figure at 0x7fd036f1c278>"
      ]
     },
     "metadata": {},
     "output_type": "display_data"
    }
   ],
   "source": [
    "data['Serial Number']=data.index+1\n",
    "congruent = data['Congruent']\n",
    "incongruent = data['Incongruent']\n",
    "sn=data['Serial Number']\n",
    "plt.scatter(data['Serial Number'], congruent,  color='blue')\n",
    "plt.scatter(data['Serial Number'], incongruent, color='grey')\n",
    "plt.axvline(congruent.mean(), color='blue', linestyle='dashed', linewidth=2)\n",
    "plt.axvline(incongruent.mean(), color='grey', linestyle='dashed', linewidth=2)\n",
    "\n",
    "plt.ylabel('Response Time')\n",
    "plt.xlabel('Eperiment Number')\n",
    "plt.legend()"
   ]
  },
  {
   "cell_type": "markdown",
   "metadata": {},
   "source": [
    "Observations from above charts are:\n",
    "Mean response time do not match for congruent and incongruent.\n",
    "It can be seen that the Mean response time for congruent words (around 14 seconds) is lower than that of incongruent word(around 22 seconds) .\n",
    "There are outliers in incongruent data with response time around 34.\n",
    "The same can also be observed from the scatter plot."
   ]
  },
  {
   "cell_type": "markdown",
   "metadata": {},
   "source": [
    "(5) Now, perform the statistical test and report the results. What is the confidence level and your critical statistic value? Do you reject the null hypothesis or fail to reject it? Come to a conclusion in terms of the experiment task. Did the results match up with your expectations?"
   ]
  },
  {
   "cell_type": "code",
   "execution_count": 43,
   "metadata": {},
   "outputs": [
    {
     "name": "stdout",
     "output_type": "stream",
     "text": [
      "Ttest_relResult(statistic=8.020706944109957, pvalue=4.1030005857111781e-08)\n"
     ]
    }
   ],
   "source": [
    "# Perform the statistical test here\n",
    "t = scipy.stats.ttest_rel(incongruent, congruent)\n",
    "print (t)"
   ]
  },
  {
   "cell_type": "markdown",
   "metadata": {},
   "source": [
    "Degree of freedom is :n=24-1=23\n",
    "For significance level α=0.05 and n=23 the t critical value from t-table is 2.069. Since we are doing two tailed test\n",
    "T-Critical value = (+/-) 2.069\n",
    "From the t test result we get \n",
    "T-stat = 8.020706944109957\n",
    "Observation:\n",
    "    T-stat > T-Critical \n",
    "    \n",
    "Thus, the null hypothesis which states that there is no significant difference in the average response time of population in reading the congruent words as compared to viewing the incongruent words i.e. μd=0 is rejected.\n",
    "As the t-stat value lies in the t-critical region i.e. the right critical region, it shows that the time difference for the two types of tests is significantly statistally different.This is as per my expectation  and observation from initial visualization.\n"
   ]
  },
  {
   "cell_type": "markdown",
   "metadata": {},
   "source": [
    "Refrences:\n",
    "https://en.wikipedia.org/wiki/Student%27s_t-test#Dependent_t-test\n",
    "http://www.statisticshowto.com/what-is-an-alpha-level/\n",
    "https://matplotlib.org/api/pyplot_api.html    \n",
    "https://community.modeanalytics.com/python/tutorial/python-histograms-boxplots-and-distributions/\n",
    "http://www.statstutor.ac.uk/resources/uploaded/tutorsquickguidetostatistics.pdf\n",
    "https://s3.amazonaws.com/udacity-hosted-downloads/t-table.jpg\n",
    "https://data-lessons.github.io/library-python/06a-plotting-with-pandas/\n",
    "http://www.sjsu.edu/faculty/gerstman/StatPrimer/t-table.pdf"
   ]
  }
 ],
 "metadata": {
  "kernelspec": {
   "display_name": "Python 3",
   "language": "python",
   "name": "python3"
  },
  "language_info": {
   "codemirror_mode": {
    "name": "ipython",
    "version": 3
   },
   "file_extension": ".py",
   "mimetype": "text/x-python",
   "name": "python",
   "nbconvert_exporter": "python",
   "pygments_lexer": "ipython3",
   "version": "3.6.3"
  }
 },
 "nbformat": 4,
 "nbformat_minor": 2
}
